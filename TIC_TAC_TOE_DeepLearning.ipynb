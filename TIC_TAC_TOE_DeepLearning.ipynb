{
  "cells": [
    {
      "cell_type": "markdown",
      "metadata": {
        "id": "view-in-github",
        "colab_type": "text"
      },
      "source": [
        "<a href=\"https://colab.research.google.com/github/PY09052021/DeepLearningSpring2022/blob/main/TIC_TAC_TOE_DeepLearning.ipynb\" target=\"_parent\"><img src=\"https://colab.research.google.com/assets/colab-badge.svg\" alt=\"Open In Colab\"/></a>"
      ]
    },
    {
      "cell_type": "code",
      "execution_count": 1,
      "id": "b1c0c4e5",
      "metadata": {
        "id": "b1c0c4e5"
      },
      "outputs": [],
      "source": [
        "# loading the dependencies\n",
        "import random\n",
        "import numpy as np\n",
        "import keras\n",
        "from keras.models import Sequential\n",
        "from keras.layers import Dense\n",
        "from keras.layers import Dropout\n",
        "from keras.backend import reshape\n",
        "from keras.utils.np_utils import to_categorical"
      ]
    },
    {
      "cell_type": "code",
      "execution_count": 2,
      "id": "69de98a9",
      "metadata": {
        "id": "69de98a9"
      },
      "outputs": [],
      "source": [
        "# Get an empty board\n",
        "#\n",
        "# 0 indicates an empty space, 1 indicates an 'X' (player 1), and 2 indicates an 'O' (player 2)\n",
        "#\n",
        "# Initially the board is empty, so we return a 3x3 array of zeroes.\n",
        "def initBoard():\n",
        "    board = [\n",
        "        [0, 0, 0],\n",
        "        [0, 0, 0],\n",
        "        [0, 0, 0]\n",
        "    ]\n",
        "    return board\n",
        "\n",
        "# Print the current state of the board\n",
        "def printBoard(board):\n",
        "    for i in range(len(board)):\n",
        "        for j in range(len(board[i])):\n",
        "            mark = ' '\n",
        "            if board[i][j] == 1:\n",
        "                mark = 'X'\n",
        "            elif board[i][j] == 2:\n",
        "                mark = 'O'\n",
        "            if (j == len(board[i]) - 1):\n",
        "                print(mark)\n",
        "            else:\n",
        "                print(str(mark) + \"|\", end='')\n",
        "        if (i < len(board) - 1):\n",
        "            print(\"-----\")\n",
        "\n",
        "# Get a list of valid moves (indices into the board)\n",
        "def getMoves(board):\n",
        "    moves = []\n",
        "    for i in range(len(board)):\n",
        "        for j in range(len(board[i])):\n",
        "            if board[i][j] == 0:\n",
        "                moves.append((i, j))\n",
        "    return moves\n",
        "\n",
        "# Declare a winner\n",
        "#\n",
        "# -1 = game not over\n",
        "#  0 = draw\n",
        "#  1 = 'X' wins (player 1)\n",
        "#  2 = 'O' wins (player 2)\n",
        "def getWinner(board):\n",
        "    candidate = 0\n",
        "    won = 0\n",
        "    \n",
        "    # Check rows\n",
        "    for i in range(len(board)):\n",
        "        candidate = 0\n",
        "        for j in range(len(board[i])):\n",
        "            \n",
        "            # Make sure there are no gaps\n",
        "            if board[i][j] == 0:\n",
        "                break\n",
        "            \n",
        "            # Identify the front-runner\n",
        "            if candidate == 0:\n",
        "                candidate = board[i][j]\n",
        "            \n",
        "            # Determine whether the front-runner has all the slots\n",
        "            if candidate != board[i][j]:\n",
        "                break\n",
        "            elif j == len(board[i]) - 1:\n",
        "                won = candidate\n",
        "    \n",
        "    if won > 0:\n",
        "        return won\n",
        "    \n",
        "    # Check columns\n",
        "    for j in range(len(board[0])):\n",
        "        candidate = 0\n",
        "        for i in range(len(board)):\n",
        "            \n",
        "            # Make sure there are no gaps\n",
        "            if board[i][j] == 0:\n",
        "                break\n",
        "            \n",
        "            # Identify the front-runner\n",
        "            if candidate == 0:\n",
        "                candidate = board[i][j]\n",
        "            \n",
        "            # Determine whether the front-runner has all the slots\n",
        "            if candidate != board[i][j]:\n",
        "                break\n",
        "            elif i == len(board) - 1:\n",
        "                won = candidate\n",
        "    \n",
        "    if won > 0:\n",
        "        return won\n",
        "    \n",
        "    # Check diagonals\n",
        "    candidate = 0\n",
        "    for i in range(len(board)):\n",
        "        if board[i][i] == 0:\n",
        "            break\n",
        "        if candidate == 0:\n",
        "            candidate = board[i][i]\n",
        "        if candidate != board[i][i]:\n",
        "            break\n",
        "        elif i == len(board) - 1:\n",
        "            won = candidate\n",
        "    \n",
        "    if won > 0:\n",
        "        return won\n",
        "    \n",
        "    candidate = 0\n",
        "    for i in range(len(board)):\n",
        "        if board[2 - i][2 - i] == 0:\n",
        "            break\n",
        "        if candidate == 0:\n",
        "            candidate = board[2 - i][2 - i]\n",
        "        if candidate != board[2 - i][2 - i]:\n",
        "            break\n",
        "        elif i == len(board) - 1:\n",
        "            won = candidate\n",
        "    \n",
        "    if won > 0:\n",
        "        return won\n",
        "    \n",
        "    # Still no winner?\n",
        "    if (len(getMoves(board)) == 0):\n",
        "        # It's a draw\n",
        "        return 0\n",
        "    else:\n",
        "        # Still more moves to make\n",
        "        return -1"
      ]
    },
    {
      "cell_type": "code",
      "execution_count": 3,
      "id": "7db14fe3",
      "metadata": {
        "colab": {
          "base_uri": "https://localhost:8080/"
        },
        "id": "7db14fe3",
        "outputId": "bff99781-294e-42ad-8d52-a708a63ef835"
      },
      "outputs": [
        {
          "output_type": "stream",
          "name": "stdout",
          "text": [
            " | | \n",
            "-----\n",
            " | | \n",
            "-----\n",
            " | | \n",
            "-1\n",
            "[(0, 0), (0, 1), (0, 2), (1, 0), (1, 1), (1, 2), (2, 0), (2, 1), (2, 2)]\n",
            "X| | \n",
            "-----\n",
            " |X| \n",
            "-----\n",
            " | |X\n",
            "1\n",
            "X| |O\n",
            "-----\n",
            " |X|O\n",
            "-----\n",
            " | |O\n",
            "2\n",
            "O|X|O\n",
            "-----\n",
            "O|X|O\n",
            "-----\n",
            "X|O|X\n",
            "0\n"
          ]
        }
      ],
      "source": [
        "#we test the helper methods to demonstrate that they work.\n",
        "b = initBoard()\n",
        "printBoard(b)\n",
        "print(getWinner(b))\n",
        "print(getMoves(b))\n",
        "\n",
        "b[0][0] = 1\n",
        "b[1][1] = 1\n",
        "b[2][2] = 1\n",
        "printBoard(b)\n",
        "print(getWinner(b))\n",
        "\n",
        "b[0][2] = 2\n",
        "b[1][2] = 2\n",
        "b[2][2] = 2\n",
        "printBoard(b)\n",
        "print(getWinner(b))\n",
        "\n",
        "b[0][1] = 1\n",
        "b[1][0] = 2\n",
        "b[2][0] = 1\n",
        "b[2][1] = 2\n",
        "b[2][2] = 1\n",
        "b[0][0] = 2\n",
        "printBoard(b)\n",
        "print(getWinner(b))\n"
      ]
    },
    {
      "cell_type": "code",
      "execution_count": 4,
      "id": "dc4ada17",
      "metadata": {
        "colab": {
          "base_uri": "https://localhost:8080/"
        },
        "id": "dc4ada17",
        "outputId": "5a3f6000-0b4b-4ccc-880a-70a2aeb02270"
      },
      "outputs": [
        {
          "output_type": "stream",
          "name": "stdout",
          "text": [
            "[(1, (1, 2)), (2, (1, 1)), (1, (2, 1)), (2, (0, 1)), (1, (2, 0)), (2, (1, 0)), (1, (2, 2))]\n"
          ]
        }
      ],
      "source": [
        "random.seed()\n",
        "\n",
        "# Get best next move for the given player at the given board position\n",
        "def bestMove(board, model, player, rnd=0):\n",
        "    scores = []\n",
        "    moves = getMoves(board)\n",
        "    \n",
        "    # Make predictions for each possible move\n",
        "    for i in range(len(moves)):\n",
        "        future = np.array(board)\n",
        "        future[moves[i][0]][moves[i][1]] = player\n",
        "        prediction = model.predict(future.reshape((-1, 9)))[0]\n",
        "        if player == 1:\n",
        "            winPrediction = prediction[1]\n",
        "            lossPrediction = prediction[2]\n",
        "        else:\n",
        "            winPrediction = prediction[2]\n",
        "            lossPrediction = prediction[1]\n",
        "        drawPrediction = prediction[0]\n",
        "        if winPrediction - lossPrediction > 0:\n",
        "            scores.append(winPrediction - lossPrediction)\n",
        "        else:\n",
        "            scores.append(drawPrediction - lossPrediction)\n",
        "\n",
        "    # Choose the best move with a random factor\n",
        "    bestMoves = np.flip(np.argsort(scores))\n",
        "    for i in range(len(bestMoves)):\n",
        "        if random.random() * rnd < 0.5:\n",
        "            return moves[bestMoves[i]]\n",
        "\n",
        "    # Choose a move completely at random\n",
        "    return moves[random.randint(0, len(moves) - 1)]\n",
        "\n",
        "# Simulate a game\n",
        "def simulateGame(p1=None, p2=None, rnd=0):\n",
        "    history = []\n",
        "    board = initBoard()\n",
        "    playerToMove = 1\n",
        "    \n",
        "    while getWinner(board) == -1:\n",
        "        \n",
        "        # Chose a move (random or use a player model if provided)\n",
        "        move = None\n",
        "        if playerToMove == 1 and p1 != None:\n",
        "            move = bestMove(board, p1, playerToMove, rnd)\n",
        "        elif playerToMove == 2 and p2 != None:\n",
        "            move = bestMove(board, p2, playerToMove, rnd)\n",
        "        else:\n",
        "            moves = getMoves(board)\n",
        "            move = moves[random.randint(0, len(moves) - 1)]\n",
        "        \n",
        "        # Make the move\n",
        "        board[move[0]][move[1]] = playerToMove\n",
        "        \n",
        "        # Add the move to the history\n",
        "        history.append((playerToMove, move))\n",
        "        \n",
        "        # Switch the active player\n",
        "        playerToMove = 1 if playerToMove == 2 else 2\n",
        "        \n",
        "    return history\n",
        "\n",
        "# Simulate a game\n",
        "history = simulateGame()\n",
        "print(history)"
      ]
    },
    {
      "cell_type": "code",
      "execution_count": 5,
      "id": "a998c515",
      "metadata": {
        "colab": {
          "base_uri": "https://localhost:8080/"
        },
        "id": "a998c515",
        "outputId": "9a490978-d62e-413b-fb80-727f95188419"
      },
      "outputs": [
        {
          "output_type": "stream",
          "name": "stdout",
          "text": [
            " |O| \n",
            "-----\n",
            "O|O|X\n",
            "-----\n",
            "X|X|X\n",
            "1\n"
          ]
        }
      ],
      "source": [
        "# Reconstruct the board from the move list\n",
        "def movesToBoard(moves):\n",
        "    board = initBoard()\n",
        "    for move in moves:\n",
        "        player = move[0]\n",
        "        coords = move[1]\n",
        "        board[coords[0]][coords[1]] = player\n",
        "    return board\n",
        "\n",
        "board = movesToBoard(history)\n",
        "printBoard(board)\n",
        "print(getWinner(board))"
      ]
    },
    {
      "cell_type": "code",
      "execution_count": 6,
      "id": "cca3a77a",
      "metadata": {
        "id": "cca3a77a"
      },
      "outputs": [],
      "source": [
        "games = [simulateGame() for _ in range(10000)]"
      ]
    },
    {
      "cell_type": "code",
      "execution_count": 7,
      "id": "eb114bbb",
      "metadata": {
        "colab": {
          "base_uri": "https://localhost:8080/"
        },
        "id": "eb114bbb",
        "outputId": "4a08cef8-eb5b-4fcc-a1c5-7bf846c5561c"
      },
      "outputs": [
        {
          "output_type": "stream",
          "name": "stdout",
          "text": [
            "Results for player 1:\n",
            "Wins: 5144 (51.4%)\n",
            "Loss: 2399 (24.0%)\n",
            "Draw: 2457 (24.6%)\n",
            "\n",
            "Results for player 2:\n",
            "Wins: 2399 (24.0%)\n",
            "Loss: 5144 (51.4%)\n",
            "Draw: 2457 (24.6%)\n"
          ]
        }
      ],
      "source": [
        "# Aggregate win/loss/draw stats for a player\n",
        "def gameStats(games, player=1):\n",
        "    stats = {\"win\": 0, \"loss\": 0, \"draw\": 0}\n",
        "    for game in games:\n",
        "        result = getWinner(movesToBoard(game))\n",
        "        if result == -1:\n",
        "            continue\n",
        "        elif result == player:\n",
        "            stats[\"win\"] += 1\n",
        "        elif result == 0:\n",
        "            stats[\"draw\"] += 1\n",
        "        else:\n",
        "            stats[\"loss\"] += 1\n",
        "    \n",
        "    winPct = stats[\"win\"] / len(games) * 100\n",
        "    lossPct = stats[\"loss\"] / len(games) * 100\n",
        "    drawPct = stats[\"draw\"] / len(games) * 100\n",
        "\n",
        "    print(\"Results for player %d:\" % (player))\n",
        "    print(\"Wins: %d (%.1f%%)\" % (stats[\"win\"], winPct))\n",
        "    print(\"Loss: %d (%.1f%%)\" % (stats[\"loss\"], lossPct))\n",
        "    print(\"Draw: %d (%.1f%%)\" % (stats[\"draw\"], drawPct))\n",
        "\n",
        "gameStats(games)\n",
        "print()\n",
        "gameStats(games, player=2)"
      ]
    },
    {
      "cell_type": "code",
      "execution_count": 8,
      "id": "db8f4413",
      "metadata": {
        "colab": {
          "base_uri": "https://localhost:8080/"
        },
        "id": "db8f4413",
        "outputId": "b346f286-5b0f-4e0d-9852-ccf309df7abb"
      },
      "outputs": [
        {
          "output_type": "stream",
          "name": "stdout",
          "text": [
            "Model: \"sequential\"\n",
            "_________________________________________________________________\n",
            " Layer (type)                Output Shape              Param #   \n",
            "=================================================================\n",
            " dense (Dense)               (None, 200)               2000      \n",
            "                                                                 \n",
            " dropout (Dropout)           (None, 200)               0         \n",
            "                                                                 \n",
            " dense_1 (Dense)             (None, 125)               25125     \n",
            "                                                                 \n",
            " dense_2 (Dense)             (None, 75)                9450      \n",
            "                                                                 \n",
            " dropout_1 (Dropout)         (None, 75)                0         \n",
            "                                                                 \n",
            " dense_3 (Dense)             (None, 25)                1900      \n",
            "                                                                 \n",
            " dense_4 (Dense)             (None, 3)                 78        \n",
            "                                                                 \n",
            "=================================================================\n",
            "Total params: 38,553\n",
            "Trainable params: 38,553\n",
            "Non-trainable params: 0\n",
            "_________________________________________________________________\n",
            "None\n"
          ]
        }
      ],
      "source": [
        "#DNN architecture\n",
        "# flat array of 9 elements, each element of which can be a 0 (empty cell), 1 (player 1 move), or 2 (player 2 move)\n",
        "# a one-hot encoded array\n",
        "\n",
        "def getModel():\n",
        "    numCells = 9 # How many cells in a 3x3 tic-tac-toe board?\n",
        "    outcomes = 3 # How many outcomes are there in a game? (draw, X-wins, O-wins)\n",
        "    model = Sequential()\n",
        "    model.add(Dense(200, activation='relu', input_shape=(9, )))\n",
        "    model.add(Dropout(0.2))\n",
        "    model.add(Dense(125, activation='relu'))\n",
        "    model.add(Dense(75, activation='relu'))\n",
        "    model.add(Dropout(0.1))\n",
        "    model.add(Dense(25, activation='relu'))\n",
        "    model.add(Dense(outcomes, activation='softmax'))\n",
        "    model.compile(loss='categorical_crossentropy', optimizer='rmsprop', metrics=['acc'])\n",
        "    return model\n",
        "model = getModel()\n",
        "print(model.summary())"
      ]
    },
    {
      "cell_type": "code",
      "execution_count": 9,
      "id": "e15a582d",
      "metadata": {
        "id": "e15a582d"
      },
      "outputs": [],
      "source": [
        "# Get a set of board states labelled by who eventually won that game\n",
        "def gamesToWinLossData(games):\n",
        "    X = []\n",
        "    y = []\n",
        "    for game in games:\n",
        "        winner = getWinner(movesToBoard(game))\n",
        "        for move in range(len(game)):\n",
        "            X.append(movesToBoard(game[:(move + 1)]))\n",
        "            y.append(winner)\n",
        "\n",
        "    X = np.array(X).reshape((-1, 9))\n",
        "    y = to_categorical(y)\n",
        "    \n",
        "    # Return an appropriate train/test split\n",
        "    trainNum = int(len(X) * 0.8)\n",
        "    return (X[:trainNum], X[trainNum:], y[:trainNum], y[trainNum:])\n",
        "\n",
        "# Split out train and validation data\n",
        "X_train, X_test, y_train, y_test = gamesToWinLossData(games)"
      ]
    },
    {
      "cell_type": "code",
      "execution_count": 10,
      "id": "46477751",
      "metadata": {
        "colab": {
          "base_uri": "https://localhost:8080/",
          "height": 1000
        },
        "id": "46477751",
        "outputId": "8cb7a3d8-192f-4012-8836-e4d811328506"
      },
      "outputs": [
        {
          "output_type": "stream",
          "name": "stdout",
          "text": [
            "Epoch 1/25\n",
            "627/627 [==============================] - 7s 8ms/step - loss: 1.0094 - acc: 0.5165 - val_loss: 0.9732 - val_acc: 0.5254\n",
            "Epoch 2/25\n",
            "627/627 [==============================] - 2s 3ms/step - loss: 0.9513 - acc: 0.5501 - val_loss: 0.9235 - val_acc: 0.5527\n",
            "Epoch 3/25\n",
            "627/627 [==============================] - 2s 4ms/step - loss: 0.9111 - acc: 0.5657 - val_loss: 0.8980 - val_acc: 0.5638\n",
            "Epoch 4/25\n",
            "627/627 [==============================] - 2s 4ms/step - loss: 0.8868 - acc: 0.5773 - val_loss: 0.8749 - val_acc: 0.5775\n",
            "Epoch 5/25\n",
            "627/627 [==============================] - 2s 3ms/step - loss: 0.8682 - acc: 0.5878 - val_loss: 0.8574 - val_acc: 0.5921\n",
            "Epoch 6/25\n",
            "627/627 [==============================] - 2s 3ms/step - loss: 0.8544 - acc: 0.5953 - val_loss: 0.8446 - val_acc: 0.5919\n",
            "Epoch 7/25\n",
            "627/627 [==============================] - 2s 3ms/step - loss: 0.8434 - acc: 0.5998 - val_loss: 0.8297 - val_acc: 0.6036\n",
            "Epoch 8/25\n",
            "627/627 [==============================] - 2s 4ms/step - loss: 0.8294 - acc: 0.6076 - val_loss: 0.8213 - val_acc: 0.6046\n",
            "Epoch 9/25\n",
            "627/627 [==============================] - 2s 3ms/step - loss: 0.8189 - acc: 0.6135 - val_loss: 0.8130 - val_acc: 0.6106\n",
            "Epoch 10/25\n",
            "627/627 [==============================] - 2s 4ms/step - loss: 0.8140 - acc: 0.6153 - val_loss: 0.8101 - val_acc: 0.6121\n",
            "Epoch 11/25\n",
            "627/627 [==============================] - 2s 3ms/step - loss: 0.8071 - acc: 0.6179 - val_loss: 0.8077 - val_acc: 0.6095\n",
            "Epoch 12/25\n",
            "627/627 [==============================] - 2s 3ms/step - loss: 0.8037 - acc: 0.6206 - val_loss: 0.7986 - val_acc: 0.6167\n",
            "Epoch 13/25\n",
            "627/627 [==============================] - 2s 4ms/step - loss: 0.8012 - acc: 0.6216 - val_loss: 0.7937 - val_acc: 0.6197\n",
            "Epoch 14/25\n",
            "627/627 [==============================] - 2s 3ms/step - loss: 0.7969 - acc: 0.6221 - val_loss: 0.7949 - val_acc: 0.6166\n",
            "Epoch 15/25\n",
            "627/627 [==============================] - 2s 3ms/step - loss: 0.7951 - acc: 0.6249 - val_loss: 0.7919 - val_acc: 0.6207\n",
            "Epoch 16/25\n",
            "627/627 [==============================] - 2s 3ms/step - loss: 0.7919 - acc: 0.6244 - val_loss: 0.7898 - val_acc: 0.6190\n",
            "Epoch 17/25\n",
            "627/627 [==============================] - 2s 3ms/step - loss: 0.7884 - acc: 0.6255 - val_loss: 0.7918 - val_acc: 0.6172\n",
            "Epoch 18/25\n",
            "627/627 [==============================] - 2s 4ms/step - loss: 0.7859 - acc: 0.6262 - val_loss: 0.7900 - val_acc: 0.6163\n",
            "Epoch 19/25\n",
            "627/627 [==============================] - 2s 4ms/step - loss: 0.7842 - acc: 0.6273 - val_loss: 0.7917 - val_acc: 0.6192\n",
            "Epoch 20/25\n",
            "627/627 [==============================] - 2s 3ms/step - loss: 0.7824 - acc: 0.6277 - val_loss: 0.7816 - val_acc: 0.6208\n",
            "Epoch 21/25\n",
            "627/627 [==============================] - 2s 3ms/step - loss: 0.7825 - acc: 0.6274 - val_loss: 0.7831 - val_acc: 0.6204\n",
            "Epoch 22/25\n",
            "627/627 [==============================] - 2s 3ms/step - loss: 0.7792 - acc: 0.6296 - val_loss: 0.7827 - val_acc: 0.6232\n",
            "Epoch 23/25\n",
            "627/627 [==============================] - 2s 4ms/step - loss: 0.7795 - acc: 0.6301 - val_loss: 0.7781 - val_acc: 0.6245\n",
            "Epoch 24/25\n",
            "627/627 [==============================] - 2s 3ms/step - loss: 0.7756 - acc: 0.6312 - val_loss: 0.7793 - val_acc: 0.6228\n",
            "Epoch 25/25\n",
            "627/627 [==============================] - 2s 4ms/step - loss: 0.7744 - acc: 0.6303 - val_loss: 0.7798 - val_acc: 0.6233\n",
            "dict_keys(['loss', 'acc', 'val_loss', 'val_acc'])\n"
          ]
        },
        {
          "output_type": "display_data",
          "data": {
            "text/plain": [
              "<Figure size 432x288 with 1 Axes>"
            ],
            "image/png": "[encoded data removed]"
          },
          "metadata": {
            "needs_background": "light"
          }
        }
      ],
      "source": [
        "import matplotlib.pyplot as plt\n",
        "\n",
        "\n",
        "nEpochs = 25\n",
        "batchSize = 100\n",
        "history = model.fit(X_train, y_train, validation_data=(X_test, y_test), epochs=nEpochs, batch_size=batchSize)\n",
        "\n",
        "print(history.history.keys())\n",
        "# summarize history for accuracy\n",
        "plt.plot(history.history['acc'])\n",
        "plt.plot(history.history['val_acc'])\n",
        "plt.title('model accuracy')\n",
        "plt.ylabel('accuracy')\n",
        "plt.xlabel('epoch')\n",
        "plt.legend(['train', 'test'], loc='upper left')\n",
        "plt.show()"
      ]
    },
    {
      "cell_type": "code",
      "source": [
        "\n"
      ],
      "metadata": {
        "id": "awwuN5EpXBzp"
      },
      "id": "awwuN5EpXBzp",
      "execution_count": 10,
      "outputs": []
    },
    {
      "cell_type": "code",
      "execution_count": 11,
      "id": "8d924ca4",
      "metadata": {
        "colab": {
          "base_uri": "https://localhost:8080/"
        },
        "id": "8d924ca4",
        "outputId": "6d8c4011-278a-43e9-aa3f-0afd5446b056"
      },
      "outputs": [
        {
          "output_type": "stream",
          "name": "stdout",
          "text": [
            "Results for player 1:\n",
            "Wins: 865 (86.5%)\n",
            "Loss: 19 (1.9%)\n",
            "Draw: 116 (11.6%)\n"
          ]
        }
      ],
      "source": [
        "games2 = [simulateGame(p1=model) for _ in range(1000)]\n",
        "gameStats(games2)"
      ]
    },
    {
      "cell_type": "code",
      "source": [
        ""
      ],
      "metadata": {
        "id": "twGeT7DdXA7m"
      },
      "id": "twGeT7DdXA7m",
      "execution_count": 11,
      "outputs": []
    },
    {
      "cell_type": "code",
      "execution_count": 12,
      "id": "6acec304",
      "metadata": {
        "colab": {
          "base_uri": "https://localhost:8080/"
        },
        "id": "6acec304",
        "outputId": "aea23aee-56f8-4c51-fc6b-3afbac8176e9"
      },
      "outputs": [
        {
          "output_type": "stream",
          "name": "stdout",
          "text": [
            "Results for player 1:\n",
            "Wins: 50 (20.0%)\n",
            "Loss: 30 (12.0%)\n",
            "Draw: 170 (68.0%)\n",
            "\n",
            "Results for player 2:\n",
            "Wins: 30 (12.0%)\n",
            "Loss: 50 (20.0%)\n",
            "Draw: 170 (68.0%)\n"
          ]
        }
      ],
      "source": [
        "games4 = [simulateGame(p1=model, p2=model, rnd=0.6) for _ in range(250)]\n",
        "gameStats(games4, player=1)\n",
        "print()\n",
        "gameStats(games4, player=2)"
      ]
    },
    {
      "cell_type": "code",
      "execution_count": 13,
      "id": "3325385d",
      "metadata": {
        "colab": {
          "base_uri": "https://localhost:8080/"
        },
        "id": "3325385d",
        "outputId": "b757522e-7f4a-4db1-a90c-10ff7298e783"
      },
      "outputs": [
        {
          "output_type": "stream",
          "name": "stdout",
          "text": [
            "Results for player 2:\n",
            "Wins: 27 (27.0%)\n",
            "Loss: 0 (0.0%)\n",
            "Draw: 73 (73.0%)\n"
          ]
        }
      ],
      "source": [
        "games3 = [simulateGame(p2=model) for _ in range(100)]\n",
        "gameStats(games3, player=2)"
      ]
    },
    {
      "cell_type": "code",
      "execution_count": 14,
      "id": "d343e95a",
      "metadata": {
        "colab": {
          "base_uri": "https://localhost:8080/"
        },
        "id": "d343e95a",
        "outputId": "f433bf3f-ef36-49a9-c4ea-2c6a8ebb565a"
      },
      "outputs": [
        {
          "output_type": "stream",
          "name": "stdout",
          "text": [
            "Average length of fully random game is 7.829300 moves\n",
            "Average length of game where P1 uses NN is 7.185000 moves\n",
            "Average length of game where P2 uses NN is 8.210000 moves\n",
            "Average length of game where both use NN is 8.408000 moves\n"
          ]
        }
      ],
      "source": [
        "print(\"Average length of fully random game is %f moves\" % (np.mean([float(len(game)) for game in games])))\n",
        "print(\"Average length of game where P1 uses NN is %f moves\" % (np.mean([float(len(game)) for game in games2])))\n",
        "print(\"Average length of game where P2 uses NN is %f moves\" % (np.mean([float(len(game)) for game in games3])))\n",
        "print(\"Average length of game where both use NN is %f moves\" % (np.mean([float(len(game)) for game in games4])))"
      ]
    },
    {
      "cell_type": "code",
      "execution_count": 24,
      "id": "87a89038",
      "metadata": {
        "colab": {
          "base_uri": "https://localhost:8080/"
        },
        "id": "87a89038",
        "outputId": "52b714a3-75bf-40df-84f0-56bfb217aa21"
      },
      "outputs": [
        {
          "output_type": "stream",
          "name": "stdout",
          "text": [
            " | | \n",
            "-----\n",
            " | | \n",
            "-----\n",
            " | |X\n"
          ]
        }
      ],
      "source": [
        "# Create new board\n",
        "board = initBoard()\n",
        "\n",
        "# Move 1 (computer)\n",
        "move = bestMove(board, model, 1)\n",
        "board[move[0]][move[1]] = 1\n",
        "printBoard(board)"
      ]
    },
    {
      "cell_type": "code",
      "execution_count": 25,
      "id": "28a68faf",
      "metadata": {
        "id": "28a68faf",
        "colab": {
          "base_uri": "https://localhost:8080/"
        },
        "outputId": "d40b0bff-57f2-4c6c-d47c-c937ac347958"
      },
      "outputs": [
        {
          "output_type": "stream",
          "name": "stdout",
          "text": [
            " | | \n",
            "-----\n",
            " |O| \n",
            "-----\n",
            " | |X\n"
          ]
        }
      ],
      "source": [
        "# Tic Tac Toe Champion(human name : Tee Teidol)\n",
        "board[1][1] = 2\n",
        "printBoard(board)"
      ]
    },
    {
      "cell_type": "code",
      "source": [
        ""
      ],
      "metadata": {
        "id": "-3mCDgU0JfiG"
      },
      "id": "-3mCDgU0JfiG",
      "execution_count": null,
      "outputs": []
    },
    {
      "cell_type": "code",
      "source": [
        "move = bestMove(board, model, 1)\n",
        "board[move[0]][move[1]] = 1\n",
        "printBoard(board)"
      ],
      "metadata": {
        "colab": {
          "base_uri": "https://localhost:8080/"
        },
        "id": "Q1X__gGtJXHo",
        "outputId": "4b8b0bc2-73e9-4d21-fffd-7c3bbf65ba28"
      },
      "id": "Q1X__gGtJXHo",
      "execution_count": 26,
      "outputs": [
        {
          "output_type": "stream",
          "name": "stdout",
          "text": [
            "X| | \n",
            "-----\n",
            " |O| \n",
            "-----\n",
            " | |X\n"
          ]
        }
      ]
    },
    {
      "cell_type": "code",
      "source": [
        "board[2][0] = 2\n",
        "printBoard(board)"
      ],
      "metadata": {
        "colab": {
          "base_uri": "https://localhost:8080/"
        },
        "id": "zwt-GuN_Jhus",
        "outputId": "08acbc5c-2258-469a-f1dd-bbe7212f1512"
      },
      "id": "zwt-GuN_Jhus",
      "execution_count": 27,
      "outputs": [
        {
          "output_type": "stream",
          "name": "stdout",
          "text": [
            "X| | \n",
            "-----\n",
            " |O| \n",
            "-----\n",
            "O| |X\n"
          ]
        }
      ]
    },
    {
      "cell_type": "code",
      "source": [
        "move = bestMove(board, model, 1)\n",
        "board[move[0]][move[1]] = 1\n",
        "printBoard(board)"
      ],
      "metadata": {
        "colab": {
          "base_uri": "https://localhost:8080/"
        },
        "id": "mGOqSQG2JsCn",
        "outputId": "214c7222-79d2-4348-d4b5-2846487800f7"
      },
      "id": "mGOqSQG2JsCn",
      "execution_count": 28,
      "outputs": [
        {
          "output_type": "stream",
          "name": "stdout",
          "text": [
            "X| | \n",
            "-----\n",
            " |O|X\n",
            "-----\n",
            "O| |X\n"
          ]
        }
      ]
    },
    {
      "cell_type": "code",
      "source": [
        "board[0][1] = 2\n",
        "printBoard(board)"
      ],
      "metadata": {
        "colab": {
          "base_uri": "https://localhost:8080/"
        },
        "id": "3jz3dBCPJ19W",
        "outputId": "2ba29b10-7319-4e7d-c716-c640a78217aa"
      },
      "id": "3jz3dBCPJ19W",
      "execution_count": 29,
      "outputs": [
        {
          "output_type": "stream",
          "name": "stdout",
          "text": [
            "X|O| \n",
            "-----\n",
            " |O|X\n",
            "-----\n",
            "O| |X\n"
          ]
        }
      ]
    },
    {
      "cell_type": "code",
      "source": [
        "move = bestMove(board, model, 1)\n",
        "board[move[0]][move[1]] = 1\n",
        "printBoard(board)"
      ],
      "metadata": {
        "colab": {
          "base_uri": "https://localhost:8080/"
        },
        "id": "vpa2TYuGKT-Z",
        "outputId": "33f001fe-8723-40b8-e4f5-c8dbd687437a"
      },
      "id": "vpa2TYuGKT-Z",
      "execution_count": 30,
      "outputs": [
        {
          "output_type": "stream",
          "name": "stdout",
          "text": [
            "X|O|X\n",
            "-----\n",
            " |O|X\n",
            "-----\n",
            "O| |X\n"
          ]
        }
      ]
    },
    {
      "cell_type": "code",
      "source": [
        "getWinner(board)"
      ],
      "metadata": {
        "colab": {
          "base_uri": "https://localhost:8080/"
        },
        "id": "7hoQg3GdSyHP",
        "outputId": "f730d844-4fad-4575-ad0c-8991efe99721"
      },
      "id": "7hoQg3GdSyHP",
      "execution_count": 31,
      "outputs": [
        {
          "output_type": "execute_result",
          "data": {
            "text/plain": [
              "1"
            ]
          },
          "metadata": {},
          "execution_count": 31
        }
      ]
    }
  ],
  "metadata": {
    "kernelspec": {
      "display_name": "Python 3",
      "language": "python",
      "name": "python3"
    },
    "language_info": {
      "codemirror_mode": {
        "name": "ipython",
        "version": 3
      },
      "file_extension": ".py",
      "mimetype": "text/x-python",
      "name": "python",
      "nbconvert_exporter": "python",
      "pygments_lexer": "ipython3",
      "version": "3.8.8"
    },
    "colab": {
      "name": "TIC-TAC-TOE-DeepLearning.ipynb",
      "provenance": [],
      "collapsed_sections": [],
      "include_colab_link": true
    }
  },
  "nbformat": 4,
  "nbformat_minor": 5
}