{
  "cells": [
    {
      "cell_type": "markdown",
      "metadata": {
        "id": "view-in-github",
        "colab_type": "text"
      },
      "source": [
        "<a href=\"https://colab.research.google.com/github/PY09052021/DeepLearningSpring2022/blob/main/TIC_TAC_TOE_DeepLearning.ipynb\" target=\"_parent\"><img src=\"https://colab.research.google.com/assets/colab-badge.svg\" alt=\"Open In Colab\"/></a>"
      ]
    },
    {
      "cell_type": "code",
      "execution_count": 4,
      "id": "b1c0c4e5",
      "metadata": {
        "id": "b1c0c4e5"
      },
      "outputs": [],
      "source": [
        "# loading the dependencies\n",
        "import random\n",
        "import numpy as np\n",
        "import keras\n",
        "from keras.models import Sequential\n",
        "from keras.layers import Dense\n",
        "from keras.layers import Dropout\n",
        "from keras.backend import reshape\n",
        "from keras.utils.np_utils import to_categorical"
      ]
    },
    {
      "cell_type": "code",
      "execution_count": 5,
      "id": "69de98a9",
      "metadata": {
        "id": "69de98a9"
      },
      "outputs": [],
      "source": [
        "# Get an empty board\n",
        "#\n",
        "# 0 indicates an empty space, 1 indicates an 'X' (player 1), and 2 indicates an 'O' (player 2)\n",
        "#\n",
        "# Initially the board is empty, so we return a 3x3 array of zeroes.\n",
        "def initBoard():\n",
        "    board = [\n",
        "        [0, 0, 0],\n",
        "        [0, 0, 0],\n",
        "        [0, 0, 0]\n",
        "    ]\n",
        "    return board\n",
        "\n",
        "# Print the current state of the board\n",
        "def printBoard(board):\n",
        "    for i in range(len(board)):\n",
        "        for j in range(len(board[i])):\n",
        "            mark = ' '\n",
        "            if board[i][j] == 1:\n",
        "                mark = 'X'\n",
        "            elif board[i][j] == 2:\n",
        "                mark = 'O'\n",
        "            if (j == len(board[i]) - 1):\n",
        "                print(mark)\n",
        "            else:\n",
        "                print(str(mark) + \"|\", end='')\n",
        "        if (i < len(board) - 1):\n",
        "            print(\"-----\")\n",
        "\n",
        "# Get a list of valid moves (indices into the board)\n",
        "def getMoves(board):\n",
        "    moves = []\n",
        "    for i in range(len(board)):\n",
        "        for j in range(len(board[i])):\n",
        "            if board[i][j] == 0:\n",
        "                moves.append((i, j))\n",
        "    return moves\n",
        "\n",
        "# Declare a winner\n",
        "#\n",
        "# -1 = game not over\n",
        "#  0 = draw\n",
        "#  1 = 'X' wins (player 1)\n",
        "#  2 = 'O' wins (player 2)\n",
        "def getWinner(board):\n",
        "    candidate = 0\n",
        "    won = 0\n",
        "    \n",
        "    # Check rows\n",
        "    for i in range(len(board)):\n",
        "        candidate = 0\n",
        "        for j in range(len(board[i])):\n",
        "            \n",
        "            # Make sure there are no gaps\n",
        "            if board[i][j] == 0:\n",
        "                break\n",
        "            \n",
        "            # Identify the front-runner\n",
        "            if candidate == 0:\n",
        "                candidate = board[i][j]\n",
        "            \n",
        "            # Determine whether the front-runner has all the slots\n",
        "            if candidate != board[i][j]:\n",
        "                break\n",
        "            elif j == len(board[i]) - 1:\n",
        "                won = candidate\n",
        "    \n",
        "    if won > 0:\n",
        "        return won\n",
        "    \n",
        "    # Check columns\n",
        "    for j in range(len(board[0])):\n",
        "        candidate = 0\n",
        "        for i in range(len(board)):\n",
        "            \n",
        "            # Make sure there are no gaps\n",
        "            if board[i][j] == 0:\n",
        "                break\n",
        "            \n",
        "            # Identify the front-runner\n",
        "            if candidate == 0:\n",
        "                candidate = board[i][j]\n",
        "            \n",
        "            # Determine whether the front-runner has all the slots\n",
        "            if candidate != board[i][j]:\n",
        "                break\n",
        "            elif i == len(board) - 1:\n",
        "                won = candidate\n",
        "    \n",
        "    if won > 0:\n",
        "        return won\n",
        "    \n",
        "    # Check diagonals\n",
        "    candidate = 0\n",
        "    for i in range(len(board)):\n",
        "        if board[i][i] == 0:\n",
        "            break\n",
        "        if candidate == 0:\n",
        "            candidate = board[i][i]\n",
        "        if candidate != board[i][i]:\n",
        "            break\n",
        "        elif i == len(board) - 1:\n",
        "            won = candidate\n",
        "    \n",
        "    if won > 0:\n",
        "        return won\n",
        "    \n",
        "    candidate = 0\n",
        "    for i in range(len(board)):\n",
        "        if board[2 - i][2 - i] == 0:\n",
        "            break\n",
        "        if candidate == 0:\n",
        "            candidate = board[2 - i][2 - i]\n",
        "        if candidate != board[2 - i][2 - i]:\n",
        "            break\n",
        "        elif i == len(board) - 1:\n",
        "            won = candidate\n",
        "    \n",
        "    if won > 0:\n",
        "        return won\n",
        "    \n",
        "    # Still no winner?\n",
        "    if (len(getMoves(board)) == 0):\n",
        "        # It's a draw\n",
        "        return 0\n",
        "    else:\n",
        "        # Still more moves to make\n",
        "        return -1"
      ]
    },
    {
      "cell_type": "code",
      "execution_count": 6,
      "id": "7db14fe3",
      "metadata": {
        "colab": {
          "base_uri": "https://localhost:8080/"
        },
        "id": "7db14fe3",
        "outputId": "a42d03ec-1ee2-480f-d1e1-1e6cbd582df4"
      },
      "outputs": [
        {
          "output_type": "stream",
          "name": "stdout",
          "text": [
            " | | \n",
            "-----\n",
            " | | \n",
            "-----\n",
            " | | \n",
            "-1\n",
            "[(0, 0), (0, 1), (0, 2), (1, 0), (1, 1), (1, 2), (2, 0), (2, 1), (2, 2)]\n",
            "X| | \n",
            "-----\n",
            " |X| \n",
            "-----\n",
            " | |X\n",
            "1\n",
            "X| |O\n",
            "-----\n",
            " |X|O\n",
            "-----\n",
            " | |O\n",
            "2\n",
            "O|X|O\n",
            "-----\n",
            "O|X|O\n",
            "-----\n",
            "X|O|X\n",
            "0\n"
          ]
        }
      ],
      "source": [
        "#we test the helper methods to demonstrate that they work.\n",
        "b = initBoard()\n",
        "printBoard(b)\n",
        "print(getWinner(b))\n",
        "print(getMoves(b))\n",
        "\n",
        "b[0][0] = 1\n",
        "b[1][1] = 1\n",
        "b[2][2] = 1\n",
        "printBoard(b)\n",
        "print(getWinner(b))\n",
        "\n",
        "b[0][2] = 2\n",
        "b[1][2] = 2\n",
        "b[2][2] = 2\n",
        "printBoard(b)\n",
        "print(getWinner(b))\n",
        "\n",
        "b[0][1] = 1\n",
        "b[1][0] = 2\n",
        "b[2][0] = 1\n",
        "b[2][1] = 2\n",
        "b[2][2] = 1\n",
        "b[0][0] = 2\n",
        "printBoard(b)\n",
        "print(getWinner(b))\n"
      ]
    },
    {
      "cell_type": "code",
      "execution_count": 7,
      "id": "dc4ada17",
      "metadata": {
        "colab": {
          "base_uri": "https://localhost:8080/"
        },
        "id": "dc4ada17",
        "outputId": "1b359569-1a97-40e7-cf7f-d2b8e0a6f63a"
      },
      "outputs": [
        {
          "output_type": "stream",
          "name": "stdout",
          "text": [
            "[(1, (0, 1)), (2, (2, 0)), (1, (0, 0)), (2, (1, 2)), (1, (0, 2))]\n"
          ]
        }
      ],
      "source": [
        "random.seed()\n",
        "\n",
        "# Get best next move for the given player at the given board position\n",
        "def bestMove(board, model, player, rnd=0):\n",
        "    scores = []\n",
        "    moves = getMoves(board)\n",
        "    \n",
        "    # Make predictions for each possible move\n",
        "    for i in range(len(moves)):\n",
        "        future = np.array(board)\n",
        "        future[moves[i][0]][moves[i][1]] = player\n",
        "        prediction = model.predict(future.reshape((-1, 9)))[0]\n",
        "        if player == 1:\n",
        "            winPrediction = prediction[1]\n",
        "            lossPrediction = prediction[2]\n",
        "        else:\n",
        "            winPrediction = prediction[2]\n",
        "            lossPrediction = prediction[1]\n",
        "        drawPrediction = prediction[0]\n",
        "        if winPrediction - lossPrediction > 0:\n",
        "            scores.append(winPrediction - lossPrediction)\n",
        "        else:\n",
        "            scores.append(drawPrediction - lossPrediction)\n",
        "\n",
        "    # Choose the best move with a random factor\n",
        "    bestMoves = np.flip(np.argsort(scores))\n",
        "    for i in range(len(bestMoves)):\n",
        "        if random.random() * rnd < 0.5:\n",
        "            return moves[bestMoves[i]]\n",
        "\n",
        "    # Choose a move completely at random\n",
        "    return moves[random.randint(0, len(moves) - 1)]\n",
        "\n",
        "# Simulate a game\n",
        "def simulateGame(p1=None, p2=None, rnd=0):\n",
        "    history = []\n",
        "    board = initBoard()\n",
        "    playerToMove = 1\n",
        "    \n",
        "    while getWinner(board) == -1:\n",
        "        \n",
        "        # Chose a move (random or use a player model if provided)\n",
        "        move = None\n",
        "        if playerToMove == 1 and p1 != None:\n",
        "            move = bestMove(board, p1, playerToMove, rnd)\n",
        "        elif playerToMove == 2 and p2 != None:\n",
        "            move = bestMove(board, p2, playerToMove, rnd)\n",
        "        else:\n",
        "            moves = getMoves(board)\n",
        "            move = moves[random.randint(0, len(moves) - 1)]\n",
        "        \n",
        "        # Make the move\n",
        "        board[move[0]][move[1]] = playerToMove\n",
        "        \n",
        "        # Add the move to the history\n",
        "        history.append((playerToMove, move))\n",
        "        \n",
        "        # Switch the active player\n",
        "        playerToMove = 1 if playerToMove == 2 else 2\n",
        "        \n",
        "    return history\n",
        "\n",
        "# Simulate a game\n",
        "history = simulateGame()\n",
        "print(history)"
      ]
    },
    {
      "cell_type": "code",
      "execution_count": 8,
      "id": "a998c515",
      "metadata": {
        "colab": {
          "base_uri": "https://localhost:8080/"
        },
        "id": "a998c515",
        "outputId": "3815b894-d1f6-43b0-bc9d-d9467352a696"
      },
      "outputs": [
        {
          "output_type": "stream",
          "name": "stdout",
          "text": [
            "X|X|X\n",
            "-----\n",
            " | |O\n",
            "-----\n",
            "O| | \n",
            "1\n"
          ]
        }
      ],
      "source": [
        "# Reconstruct the board from the move list\n",
        "def movesToBoard(moves):\n",
        "    board = initBoard()\n",
        "    for move in moves:\n",
        "        player = move[0]\n",
        "        coords = move[1]\n",
        "        board[coords[0]][coords[1]] = player\n",
        "    return board\n",
        "\n",
        "board = movesToBoard(history)\n",
        "printBoard(board)\n",
        "print(getWinner(board))"
      ]
    },
    {
      "cell_type": "code",
      "execution_count": 9,
      "id": "cca3a77a",
      "metadata": {
        "id": "cca3a77a"
      },
      "outputs": [],
      "source": [
        "games = [simulateGame() for _ in range(10000)]"
      ]
    },
    {
      "cell_type": "code",
      "execution_count": 10,
      "id": "eb114bbb",
      "metadata": {
        "colab": {
          "base_uri": "https://localhost:8080/"
        },
        "id": "eb114bbb",
        "outputId": "8b21787e-0896-4795-faa2-eaa1b62d9674"
      },
      "outputs": [
        {
          "output_type": "stream",
          "name": "stdout",
          "text": [
            "Results for player 1:\n",
            "Wins: 5297 (53.0%)\n",
            "Loss: 2368 (23.7%)\n",
            "Draw: 2335 (23.4%)\n",
            "\n",
            "Results for player 2:\n",
            "Wins: 2368 (23.7%)\n",
            "Loss: 5297 (53.0%)\n",
            "Draw: 2335 (23.4%)\n"
          ]
        }
      ],
      "source": [
        "# Aggregate win/loss/draw stats for a player\n",
        "def gameStats(games, player=1):\n",
        "    stats = {\"win\": 0, \"loss\": 0, \"draw\": 0}\n",
        "    for game in games:\n",
        "        result = getWinner(movesToBoard(game))\n",
        "        if result == -1:\n",
        "            continue\n",
        "        elif result == player:\n",
        "            stats[\"win\"] += 1\n",
        "        elif result == 0:\n",
        "            stats[\"draw\"] += 1\n",
        "        else:\n",
        "            stats[\"loss\"] += 1\n",
        "    \n",
        "    winPct = stats[\"win\"] / len(games) * 100\n",
        "    lossPct = stats[\"loss\"] / len(games) * 100\n",
        "    drawPct = stats[\"draw\"] / len(games) * 100\n",
        "\n",
        "    print(\"Results for player %d:\" % (player))\n",
        "    print(\"Wins: %d (%.1f%%)\" % (stats[\"win\"], winPct))\n",
        "    print(\"Loss: %d (%.1f%%)\" % (stats[\"loss\"], lossPct))\n",
        "    print(\"Draw: %d (%.1f%%)\" % (stats[\"draw\"], drawPct))\n",
        "\n",
        "gameStats(games)\n",
        "print()\n",
        "gameStats(games, player=2)"
      ]
    },
    {
      "cell_type": "code",
      "execution_count": 11,
      "id": "db8f4413",
      "metadata": {
        "colab": {
          "base_uri": "https://localhost:8080/"
        },
        "id": "db8f4413",
        "outputId": "27831531-402f-4c46-a68d-00b51a152f4e"
      },
      "outputs": [
        {
          "output_type": "stream",
          "name": "stdout",
          "text": [
            "Model: \"sequential_2\"\n",
            "_________________________________________________________________\n",
            " Layer (type)                Output Shape              Param #   \n",
            "=================================================================\n",
            " dense_6 (Dense)             (None, 200)               2000      \n",
            "                                                                 \n",
            " dropout (Dropout)           (None, 200)               0         \n",
            "                                                                 \n",
            " dense_7 (Dense)             (None, 125)               25125     \n",
            "                                                                 \n",
            " dense_8 (Dense)             (None, 75)                9450      \n",
            "                                                                 \n",
            " dropout_1 (Dropout)         (None, 75)                0         \n",
            "                                                                 \n",
            " dense_9 (Dense)             (None, 25)                1900      \n",
            "                                                                 \n",
            " dense_10 (Dense)            (None, 3)                 78        \n",
            "                                                                 \n",
            "=================================================================\n",
            "Total params: 38,553\n",
            "Trainable params: 38,553\n",
            "Non-trainable params: 0\n",
            "_________________________________________________________________\n",
            "None\n"
          ]
        }
      ],
      "source": [
        "#DNN architecture\n",
        "# flat array of 9 elements, each element of which can be a 0 (empty cell), 1 (player 1 move), or 2 (player 2 move)\n",
        "# a one-hot encoded array\n",
        "\n",
        "def getModel():\n",
        "    numCells = 9 # How many cells in a 3x3 tic-tac-toe board?\n",
        "    outcomes = 3 # How many outcomes are there in a game? (draw, X-wins, O-wins)\n",
        "    model = Sequential()\n",
        "    model.add(Dense(200, activation='relu', input_shape=(9, )))\n",
        "    model.add(Dropout(0.2))\n",
        "    model.add(Dense(125, activation='relu'))\n",
        "    model.add(Dense(75, activation='relu'))\n",
        "    model.add(Dropout(0.1))\n",
        "    model.add(Dense(25, activation='relu'))\n",
        "    model.add(Dense(outcomes, activation='softmax'))\n",
        "    model.compile(loss='categorical_crossentropy', optimizer='rmsprop', metrics=['acc'])\n",
        "    return model\n",
        "model = getModel()\n",
        "print(model.summary())"
      ]
    },
    {
      "cell_type": "code",
      "source": [
        "# baseline model with 3 layers\n",
        "import keras.models as Km\n",
        "import keras.layers as Kl\n",
        "def getModel2():\n",
        "  model2 = Km.Sequential()\n",
        "  model2.add(Kl.Dense(18, activation='relu', input_dim=9))\n",
        "  model2.add(Kl.Dense(18, activation='relu'))\n",
        "  model2.add(Kl.Dense(1, activation='linear'))\n",
        "  model2.compile(optimizer='adam', loss='mean_absolute_error', metrics=['accuracy'])\n",
        "  return model2 \n",
        "model2=getModel2()\n",
        "print(model2.summary())"
      ],
      "metadata": {
        "colab": {
          "base_uri": "https://localhost:8080/"
        },
        "id": "n7YSmMHFbiHI",
        "outputId": "e30ef2fd-3b37-4b10-cb2f-bce1088d6bbb"
      },
      "id": "n7YSmMHFbiHI",
      "execution_count": 12,
      "outputs": [
        {
          "output_type": "stream",
          "name": "stdout",
          "text": [
            "Model: \"sequential_3\"\n",
            "_________________________________________________________________\n",
            " Layer (type)                Output Shape              Param #   \n",
            "=================================================================\n",
            " dense_11 (Dense)            (None, 18)                180       \n",
            "                                                                 \n",
            " dense_12 (Dense)            (None, 18)                342       \n",
            "                                                                 \n",
            " dense_13 (Dense)            (None, 1)                 19        \n",
            "                                                                 \n",
            "=================================================================\n",
            "Total params: 541\n",
            "Trainable params: 541\n",
            "Non-trainable params: 0\n",
            "_________________________________________________________________\n",
            "None\n"
          ]
        }
      ]
    },
    {
      "cell_type": "code",
      "execution_count": 13,
      "id": "e15a582d",
      "metadata": {
        "id": "e15a582d"
      },
      "outputs": [],
      "source": [
        "# Get a set of board states labelled by who eventually won that game\n",
        "def gamesToWinLossData(games):\n",
        "    X = []\n",
        "    y = []\n",
        "    for game in games:\n",
        "        winner = getWinner(movesToBoard(game))\n",
        "        for move in range(len(game)):\n",
        "            X.append(movesToBoard(game[:(move + 1)]))\n",
        "            y.append(winner)\n",
        "\n",
        "    X = np.array(X).reshape((-1, 9))\n",
        "    y = to_categorical(y)\n",
        "    \n",
        "    # Return an appropriate train/test split\n",
        "    trainNum = int(len(X) * 0.8)\n",
        "    return (X[:trainNum], X[trainNum:], y[:trainNum], y[trainNum:])\n",
        "\n",
        "# Split out train and validation data\n",
        "X_train, X_test, y_train, y_test = gamesToWinLossData(games)"
      ]
    },
    {
      "cell_type": "code",
      "execution_count": 14,
      "id": "46477751",
      "metadata": {
        "colab": {
          "base_uri": "https://localhost:8080/",
          "height": 1000
        },
        "id": "46477751",
        "outputId": "53e54905-7799-4333-b9f8-eb08c25e3463"
      },
      "outputs": [
        {
          "output_type": "stream",
          "name": "stdout",
          "text": [
            "Epoch 1/25\n",
            "625/625 [==============================] - 3s 4ms/step - loss: 1.0080 - acc: 0.5212 - val_loss: 0.9623 - val_acc: 0.5674\n",
            "Epoch 2/25\n",
            "625/625 [==============================] - 2s 3ms/step - loss: 0.9489 - acc: 0.5570 - val_loss: 0.9068 - val_acc: 0.5852\n",
            "Epoch 3/25\n",
            "625/625 [==============================] - 2s 4ms/step - loss: 0.9081 - acc: 0.5718 - val_loss: 0.8732 - val_acc: 0.5920\n",
            "Epoch 4/25\n",
            "625/625 [==============================] - 2s 3ms/step - loss: 0.8826 - acc: 0.5820 - val_loss: 0.8543 - val_acc: 0.6068\n",
            "Epoch 5/25\n",
            "625/625 [==============================] - 2s 3ms/step - loss: 0.8649 - acc: 0.5936 - val_loss: 0.8408 - val_acc: 0.6097\n",
            "Epoch 6/25\n",
            "625/625 [==============================] - 2s 3ms/step - loss: 0.8517 - acc: 0.6011 - val_loss: 0.8301 - val_acc: 0.6234\n",
            "Epoch 7/25\n",
            "625/625 [==============================] - 2s 3ms/step - loss: 0.8392 - acc: 0.6087 - val_loss: 0.8153 - val_acc: 0.6279\n",
            "Epoch 8/25\n",
            "625/625 [==============================] - 2s 3ms/step - loss: 0.8276 - acc: 0.6127 - val_loss: 0.8084 - val_acc: 0.6303\n",
            "Epoch 9/25\n",
            "625/625 [==============================] - 2s 3ms/step - loss: 0.8187 - acc: 0.6188 - val_loss: 0.7971 - val_acc: 0.6372\n",
            "Epoch 10/25\n",
            "625/625 [==============================] - 2s 3ms/step - loss: 0.8115 - acc: 0.6226 - val_loss: 0.7978 - val_acc: 0.6385\n",
            "Epoch 11/25\n",
            "625/625 [==============================] - 2s 3ms/step - loss: 0.8024 - acc: 0.6287 - val_loss: 0.7787 - val_acc: 0.6432\n",
            "Epoch 12/25\n",
            "625/625 [==============================] - 2s 3ms/step - loss: 0.7953 - acc: 0.6295 - val_loss: 0.7876 - val_acc: 0.6393\n",
            "Epoch 13/25\n",
            "625/625 [==============================] - 2s 3ms/step - loss: 0.7918 - acc: 0.6322 - val_loss: 0.7792 - val_acc: 0.6401\n",
            "Epoch 14/25\n",
            "625/625 [==============================] - 2s 3ms/step - loss: 0.7868 - acc: 0.6336 - val_loss: 0.7740 - val_acc: 0.6426\n",
            "Epoch 15/25\n",
            "625/625 [==============================] - 3s 4ms/step - loss: 0.7850 - acc: 0.6320 - val_loss: 0.7714 - val_acc: 0.6453\n",
            "Epoch 16/25\n",
            "625/625 [==============================] - 2s 4ms/step - loss: 0.7805 - acc: 0.6348 - val_loss: 0.7761 - val_acc: 0.6402\n",
            "Epoch 17/25\n",
            "625/625 [==============================] - 2s 3ms/step - loss: 0.7796 - acc: 0.6343 - val_loss: 0.7668 - val_acc: 0.6417\n",
            "Epoch 18/25\n",
            "625/625 [==============================] - 2s 4ms/step - loss: 0.7782 - acc: 0.6345 - val_loss: 0.7667 - val_acc: 0.6418\n",
            "Epoch 19/25\n",
            "625/625 [==============================] - 3s 4ms/step - loss: 0.7748 - acc: 0.6390 - val_loss: 0.7671 - val_acc: 0.6423\n",
            "Epoch 20/25\n",
            "625/625 [==============================] - 2s 3ms/step - loss: 0.7752 - acc: 0.6371 - val_loss: 0.7713 - val_acc: 0.6415\n",
            "Epoch 21/25\n",
            "625/625 [==============================] - 2s 3ms/step - loss: 0.7713 - acc: 0.6392 - val_loss: 0.7653 - val_acc: 0.6403\n",
            "Epoch 22/25\n",
            "625/625 [==============================] - 2s 3ms/step - loss: 0.7706 - acc: 0.6389 - val_loss: 0.7586 - val_acc: 0.6456\n",
            "Epoch 23/25\n",
            "625/625 [==============================] - 2s 3ms/step - loss: 0.7688 - acc: 0.6393 - val_loss: 0.7660 - val_acc: 0.6435\n",
            "Epoch 24/25\n",
            "625/625 [==============================] - 2s 3ms/step - loss: 0.7691 - acc: 0.6386 - val_loss: 0.7613 - val_acc: 0.6421\n",
            "Epoch 25/25\n",
            "625/625 [==============================] - 2s 3ms/step - loss: 0.7655 - acc: 0.6429 - val_loss: 0.7544 - val_acc: 0.6466\n",
            "dict_keys(['loss', 'acc', 'val_loss', 'val_acc'])\n"
          ]
        },
        {
          "output_type": "display_data",
          "data": {
            "text/plain": [
              "<Figure size 432x288 with 1 Axes>"
            ],
            "image/png": "[encoded data removed]"
          },
          "metadata": {
            "needs_background": "light"
          }
        }
      ],
      "source": [
        "import matplotlib.pyplot as plt\n",
        "\n",
        "\n",
        "nEpochs = 25\n",
        "batchSize = 100\n",
        "history = model.fit(X_train, y_train, validation_data=(X_test, y_test), epochs=nEpochs, batch_size=batchSize)\n",
        "\n",
        "print(history.history.keys())\n",
        "# summarize history for accuracy\n",
        "plt.plot(history.history['acc'])\n",
        "plt.plot(history.history['val_acc'])\n",
        "plt.title('model accuracy')\n",
        "plt.ylabel('accuracy')\n",
        "plt.xlabel('epoch')\n",
        "plt.legend(['train', 'test'], loc='upper left')\n",
        "plt.show()"
      ]
    },
    {
      "cell_type": "markdown",
      "source": [
        "**Simulating baseline model with similar data**"
      ],
      "metadata": {
        "id": "zLPKxOl6dAno"
      },
      "id": "zLPKxOl6dAno"
    },
    {
      "cell_type": "code",
      "source": [
        "# Simulating baseline model with similar data\n",
        "nEpochs = 25\n",
        "batchSize = 100\n",
        "history = model2.fit(X_train, y_train, validation_data=(X_test, y_test), epochs=nEpochs, batch_size=batchSize)\n",
        "\n",
        "print(history.history.keys())\n",
        "# summarize history for accuracy\n",
        "plt.plot(history.history['accuracy'])\n",
        "plt.plot(history.history['val_accuracy'])\n",
        "plt.title('model accuracy')\n",
        "plt.ylabel('accuracy')\n",
        "plt.xlabel('epoch')\n",
        "plt.legend(['train', 'test'], loc='upper left')\n",
        "plt.show()\n",
        "\n"
      ],
      "metadata": {
        "id": "awwuN5EpXBzp",
        "colab": {
          "base_uri": "https://localhost:8080/",
          "height": 1000
        },
        "outputId": "b5576458-c70c-4dc8-8417-0c1ae1c8a67e"
      },
      "id": "awwuN5EpXBzp",
      "execution_count": 15,
      "outputs": [
        {
          "output_type": "stream",
          "name": "stdout",
          "text": [
            "Epoch 1/25\n",
            "625/625 [==============================] - 2s 2ms/step - loss: 0.3665 - accuracy: 0.6541 - val_loss: 0.3381 - val_accuracy: 0.6667\n",
            "Epoch 2/25\n",
            "625/625 [==============================] - 1s 2ms/step - loss: 0.3364 - accuracy: 0.6667 - val_loss: 0.3354 - val_accuracy: 0.6667\n",
            "Epoch 3/25\n",
            "625/625 [==============================] - 1s 2ms/step - loss: 0.3351 - accuracy: 0.6667 - val_loss: 0.3345 - val_accuracy: 0.6667\n",
            "Epoch 4/25\n",
            "625/625 [==============================] - 1s 2ms/step - loss: 0.3349 - accuracy: 0.6667 - val_loss: 0.3353 - val_accuracy: 0.6667\n",
            "Epoch 5/25\n",
            "625/625 [==============================] - 1s 2ms/step - loss: 0.3345 - accuracy: 0.6667 - val_loss: 0.3349 - val_accuracy: 0.6667\n",
            "Epoch 6/25\n",
            "625/625 [==============================] - 1s 2ms/step - loss: 0.3343 - accuracy: 0.6667 - val_loss: 0.3355 - val_accuracy: 0.6667\n",
            "Epoch 7/25\n",
            "625/625 [==============================] - 1s 2ms/step - loss: 0.3343 - accuracy: 0.6667 - val_loss: 0.3337 - val_accuracy: 0.6667\n",
            "Epoch 8/25\n",
            "625/625 [==============================] - 1s 2ms/step - loss: 0.3343 - accuracy: 0.6667 - val_loss: 0.3344 - val_accuracy: 0.6667\n",
            "Epoch 9/25\n",
            "625/625 [==============================] - 1s 2ms/step - loss: 0.3341 - accuracy: 0.6667 - val_loss: 0.3336 - val_accuracy: 0.6667\n",
            "Epoch 10/25\n",
            "625/625 [==============================] - 1s 2ms/step - loss: 0.3340 - accuracy: 0.6667 - val_loss: 0.3345 - val_accuracy: 0.6667\n",
            "Epoch 11/25\n",
            "625/625 [==============================] - 1s 2ms/step - loss: 0.3341 - accuracy: 0.6667 - val_loss: 0.3335 - val_accuracy: 0.6667\n",
            "Epoch 12/25\n",
            "625/625 [==============================] - 1s 2ms/step - loss: 0.3340 - accuracy: 0.6667 - val_loss: 0.3340 - val_accuracy: 0.6667\n",
            "Epoch 13/25\n",
            "625/625 [==============================] - 1s 2ms/step - loss: 0.3341 - accuracy: 0.6667 - val_loss: 0.3343 - val_accuracy: 0.6667\n",
            "Epoch 14/25\n",
            "625/625 [==============================] - 1s 2ms/step - loss: 0.3339 - accuracy: 0.6667 - val_loss: 0.3337 - val_accuracy: 0.6667\n",
            "Epoch 15/25\n",
            "625/625 [==============================] - 1s 2ms/step - loss: 0.3339 - accuracy: 0.6667 - val_loss: 0.3336 - val_accuracy: 0.6667\n",
            "Epoch 16/25\n",
            "625/625 [==============================] - 1s 2ms/step - loss: 0.3339 - accuracy: 0.6667 - val_loss: 0.3336 - val_accuracy: 0.6667\n",
            "Epoch 17/25\n",
            "625/625 [==============================] - 1s 2ms/step - loss: 0.3339 - accuracy: 0.6667 - val_loss: 0.3340 - val_accuracy: 0.6667\n",
            "Epoch 18/25\n",
            "625/625 [==============================] - 1s 2ms/step - loss: 0.3339 - accuracy: 0.6667 - val_loss: 0.3337 - val_accuracy: 0.6667\n",
            "Epoch 19/25\n",
            "625/625 [==============================] - 1s 2ms/step - loss: 0.3339 - accuracy: 0.6667 - val_loss: 0.3335 - val_accuracy: 0.6667\n",
            "Epoch 20/25\n",
            "625/625 [==============================] - 1s 2ms/step - loss: 0.3339 - accuracy: 0.6667 - val_loss: 0.3336 - val_accuracy: 0.6667\n",
            "Epoch 21/25\n",
            "625/625 [==============================] - 1s 2ms/step - loss: 0.3338 - accuracy: 0.6667 - val_loss: 0.3337 - val_accuracy: 0.6667\n",
            "Epoch 22/25\n",
            "625/625 [==============================] - 1s 2ms/step - loss: 0.3338 - accuracy: 0.6667 - val_loss: 0.3337 - val_accuracy: 0.6667\n",
            "Epoch 23/25\n",
            "625/625 [==============================] - 1s 2ms/step - loss: 0.3338 - accuracy: 0.6667 - val_loss: 0.3338 - val_accuracy: 0.6667\n",
            "Epoch 24/25\n",
            "625/625 [==============================] - 1s 2ms/step - loss: 0.3337 - accuracy: 0.6667 - val_loss: 0.3336 - val_accuracy: 0.6667\n",
            "Epoch 25/25\n",
            "625/625 [==============================] - 1s 2ms/step - loss: 0.3337 - accuracy: 0.6667 - val_loss: 0.3339 - val_accuracy: 0.6667\n",
            "dict_keys(['loss', 'accuracy', 'val_loss', 'val_accuracy'])\n"
          ]
        },
        {
          "output_type": "display_data",
          "data": {
            "text/plain": [
              "<Figure size 432x288 with 1 Axes>"
            ],
            "image/png": "[encoded data removed]"
          },
          "metadata": {
            "needs_background": "light"
          }
        }
      ]
    },
    {
      "cell_type": "code",
      "execution_count": 16,
      "id": "8d924ca4",
      "metadata": {
        "colab": {
          "base_uri": "https://localhost:8080/"
        },
        "id": "8d924ca4",
        "outputId": "288e556d-144b-4ae7-820b-43e302839ae1"
      },
      "outputs": [
        {
          "output_type": "stream",
          "name": "stdout",
          "text": [
            "Results for player 1:\n",
            "Wins: 907 (90.7%)\n",
            "Loss: 26 (2.6%)\n",
            "Draw: 67 (6.7%)\n"
          ]
        }
      ],
      "source": [
        "games2 = [simulateGame(p1=model) for _ in range(1000)]\n",
        "gameStats(games2)"
      ]
    },
    {
      "cell_type": "code",
      "source": [
        ""
      ],
      "metadata": {
        "id": "twGeT7DdXA7m"
      },
      "id": "twGeT7DdXA7m",
      "execution_count": 16,
      "outputs": []
    },
    {
      "cell_type": "code",
      "execution_count": 17,
      "id": "6acec304",
      "metadata": {
        "colab": {
          "base_uri": "https://localhost:8080/"
        },
        "id": "6acec304",
        "outputId": "5767957a-40b1-46fd-97b5-30f4ac3b3232"
      },
      "outputs": [
        {
          "output_type": "stream",
          "name": "stdout",
          "text": [
            "Results for player 1:\n",
            "Wins: 72 (28.8%)\n",
            "Loss: 29 (11.6%)\n",
            "Draw: 149 (59.6%)\n",
            "\n",
            "Results for player 2:\n",
            "Wins: 29 (11.6%)\n",
            "Loss: 72 (28.8%)\n",
            "Draw: 149 (59.6%)\n"
          ]
        }
      ],
      "source": [
        "games4 = [simulateGame(p1=model, p2=model, rnd=0.6) for _ in range(250)]\n",
        "gameStats(games4, player=1)\n",
        "print()\n",
        "gameStats(games4, player=2)"
      ]
    },
    {
      "cell_type": "code",
      "execution_count": 18,
      "id": "3325385d",
      "metadata": {
        "colab": {
          "base_uri": "https://localhost:8080/"
        },
        "id": "3325385d",
        "outputId": "cbcda188-a1e4-4910-f9fc-6891a86b1696"
      },
      "outputs": [
        {
          "output_type": "stream",
          "name": "stdout",
          "text": [
            "Results for player 2:\n",
            "Wins: 27 (27.0%)\n",
            "Loss: 7 (7.0%)\n",
            "Draw: 66 (66.0%)\n"
          ]
        }
      ],
      "source": [
        "games3 = [simulateGame(p2=model) for _ in range(100)]\n",
        "gameStats(games3, player=2)"
      ]
    },
    {
      "cell_type": "code",
      "execution_count": 19,
      "id": "d343e95a",
      "metadata": {
        "colab": {
          "base_uri": "https://localhost:8080/"
        },
        "id": "d343e95a",
        "outputId": "6b14a5a3-068b-426d-ba9e-a344343f4eb4"
      },
      "outputs": [
        {
          "output_type": "stream",
          "name": "stdout",
          "text": [
            "Average length of fully random game is 7.806000 moves\n",
            "Average length of game where P1 uses NN is 7.058000 moves\n",
            "Average length of game where P2 uses NN is 8.070000 moves\n",
            "Average length of game where both use NN is 8.180000 moves\n"
          ]
        }
      ],
      "source": [
        "print(\"Average length of fully random game is %f moves\" % (np.mean([float(len(game)) for game in games])))\n",
        "print(\"Average length of game where P1 uses NN is %f moves\" % (np.mean([float(len(game)) for game in games2])))\n",
        "print(\"Average length of game where P2 uses NN is %f moves\" % (np.mean([float(len(game)) for game in games3])))\n",
        "print(\"Average length of game where both use NN is %f moves\" % (np.mean([float(len(game)) for game in games4])))"
      ]
    },
    {
      "cell_type": "code",
      "execution_count": 20,
      "id": "87a89038",
      "metadata": {
        "colab": {
          "base_uri": "https://localhost:8080/"
        },
        "id": "87a89038",
        "outputId": "0a592265-5798-4146-a83f-c53794ff2e63"
      },
      "outputs": [
        {
          "output_type": "stream",
          "name": "stdout",
          "text": [
            " | | \n",
            "-----\n",
            " |X| \n",
            "-----\n",
            " | | \n"
          ]
        }
      ],
      "source": [
        "# Create new board\n",
        "board = initBoard()\n",
        "\n",
        "# Move 1 (computer)\n",
        "move = bestMove(board, model, 1)\n",
        "board[move[0]][move[1]] = 1\n",
        "printBoard(board)"
      ]
    },
    {
      "cell_type": "code",
      "execution_count": 21,
      "id": "28a68faf",
      "metadata": {
        "id": "28a68faf",
        "colab": {
          "base_uri": "https://localhost:8080/"
        },
        "outputId": "54b4bcf6-0483-4401-ee2c-13b59626f385"
      },
      "outputs": [
        {
          "output_type": "stream",
          "name": "stdout",
          "text": [
            " | | \n",
            "-----\n",
            " |O| \n",
            "-----\n",
            " | | \n"
          ]
        }
      ],
      "source": [
        "# Tic Tac Toe Champion(human name : Tee Teidol)\n",
        "board[1][1] = 2\n",
        "printBoard(board)"
      ]
    },
    {
      "cell_type": "code",
      "source": [
        ""
      ],
      "metadata": {
        "id": "-3mCDgU0JfiG"
      },
      "id": "-3mCDgU0JfiG",
      "execution_count": 21,
      "outputs": []
    },
    {
      "cell_type": "code",
      "source": [
        "move = bestMove(board, model, 1)\n",
        "board[move[0]][move[1]] = 1\n",
        "printBoard(board)"
      ],
      "metadata": {
        "colab": {
          "base_uri": "https://localhost:8080/"
        },
        "id": "Q1X__gGtJXHo",
        "outputId": "40282df4-6590-4ad7-e1f8-2b207e49238d"
      },
      "id": "Q1X__gGtJXHo",
      "execution_count": 22,
      "outputs": [
        {
          "output_type": "stream",
          "name": "stdout",
          "text": [
            " | | \n",
            "-----\n",
            " |O| \n",
            "-----\n",
            " | |X\n"
          ]
        }
      ]
    },
    {
      "cell_type": "code",
      "source": [
        "board[2][0] = 2\n",
        "printBoard(board)"
      ],
      "metadata": {
        "colab": {
          "base_uri": "https://localhost:8080/"
        },
        "id": "zwt-GuN_Jhus",
        "outputId": "cceb52fc-077e-4065-c83b-be4927b5a176"
      },
      "id": "zwt-GuN_Jhus",
      "execution_count": 23,
      "outputs": [
        {
          "output_type": "stream",
          "name": "stdout",
          "text": [
            " | | \n",
            "-----\n",
            " |O| \n",
            "-----\n",
            "O| |X\n"
          ]
        }
      ]
    },
    {
      "cell_type": "code",
      "source": [
        "move = bestMove(board, model, 1)\n",
        "board[move[0]][move[1]] = 1\n",
        "printBoard(board)"
      ],
      "metadata": {
        "colab": {
          "base_uri": "https://localhost:8080/"
        },
        "id": "mGOqSQG2JsCn",
        "outputId": "bc1523c6-73ac-43bb-91f7-1ecd63c3bec7"
      },
      "id": "mGOqSQG2JsCn",
      "execution_count": 24,
      "outputs": [
        {
          "output_type": "stream",
          "name": "stdout",
          "text": [
            " | | \n",
            "-----\n",
            " |O|X\n",
            "-----\n",
            "O| |X\n"
          ]
        }
      ]
    },
    {
      "cell_type": "code",
      "source": [
        "board[0][1] = 2\n",
        "printBoard(board)"
      ],
      "metadata": {
        "colab": {
          "base_uri": "https://localhost:8080/"
        },
        "id": "3jz3dBCPJ19W",
        "outputId": "35396729-1a6f-4aac-8c76-5b0392889aea"
      },
      "id": "3jz3dBCPJ19W",
      "execution_count": 25,
      "outputs": [
        {
          "output_type": "stream",
          "name": "stdout",
          "text": [
            " |O| \n",
            "-----\n",
            " |O|X\n",
            "-----\n",
            "O| |X\n"
          ]
        }
      ]
    },
    {
      "cell_type": "code",
      "source": [
        "move = bestMove(board, model, 1)\n",
        "board[move[0]][move[1]] = 1\n",
        "printBoard(board)"
      ],
      "metadata": {
        "colab": {
          "base_uri": "https://localhost:8080/"
        },
        "id": "vpa2TYuGKT-Z",
        "outputId": "5d5c4240-41a9-479e-f295-d6cef4a6f2e7"
      },
      "id": "vpa2TYuGKT-Z",
      "execution_count": 26,
      "outputs": [
        {
          "output_type": "stream",
          "name": "stdout",
          "text": [
            " |O|X\n",
            "-----\n",
            " |O|X\n",
            "-----\n",
            "O| |X\n"
          ]
        }
      ]
    },
    {
      "cell_type": "code",
      "source": [
        "getWinner(board)"
      ],
      "metadata": {
        "colab": {
          "base_uri": "https://localhost:8080/"
        },
        "id": "7hoQg3GdSyHP",
        "outputId": "b58190be-0765-4d1c-f070-ffa248e32668"
      },
      "id": "7hoQg3GdSyHP",
      "execution_count": 27,
      "outputs": [
        {
          "output_type": "execute_result",
          "data": {
            "text/plain": [
              "1"
            ]
          },
          "metadata": {},
          "execution_count": 27
        }
      ]
    }
  ],
  "metadata": {
    "kernelspec": {
      "display_name": "Python 3",
      "language": "python",
      "name": "python3"
    },
    "language_info": {
      "codemirror_mode": {
        "name": "ipython",
        "version": 3
      },
      "file_extension": ".py",
      "mimetype": "text/x-python",
      "name": "python",
      "nbconvert_exporter": "python",
      "pygments_lexer": "ipython3",
      "version": "3.8.8"
    },
    "colab": {
      "name": "TIC-TAC-TOE-DeepLearning.ipynb",
      "provenance": [],
      "collapsed_sections": [],
      "include_colab_link": true
    }
  },
  "nbformat": 4,
  "nbformat_minor": 5
}